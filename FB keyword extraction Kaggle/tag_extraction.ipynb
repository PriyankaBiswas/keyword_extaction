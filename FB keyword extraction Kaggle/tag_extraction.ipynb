{
 "cells": [
  {
   "cell_type": "code",
   "execution_count": 1,
   "metadata": {},
   "outputs": [],
   "source": [
    "#load libraries\n",
    "import pandas as pd\n",
    "import numpy as np\n",
    "import matplotlib.pyplot as plt\n",
    "%matplotlib inline\n",
    "import os\n",
    "\n",
    "import time as t\n",
    "\n",
    "from bs4 import BeautifulSoup as bs\n",
    "import re\n",
    "import nltk\n",
    "import sklearn"
   ]
  },
  {
   "cell_type": "code",
   "execution_count": 4,
   "metadata": {},
   "outputs": [
    {
     "name": "stdout",
     "output_type": "stream",
     "text": [
      "Took 630.7031440734863 minutes to load.\n"
     ]
    }
   ],
   "source": [
    "# load the data  - 6 ml data points, takes a while to read\n",
    "start = t.time()\n",
    "train = pd.read_csv(\"train.csv\")\n",
    "print(\"Took {} minutes to load.\".format(t.time()-start))"
   ]
  },
  {
   "cell_type": "code",
   "execution_count": null,
   "metadata": {},
   "outputs": [],
   "source": [
    "train.head()"
   ]
  },
  {
   "cell_type": "code",
   "execution_count": null,
   "metadata": {},
   "outputs": [],
   "source": [
    "train.info()"
   ]
  },
  {
   "cell_type": "code",
   "execution_count": null,
   "metadata": {
    "scrolled": true
   },
   "outputs": [],
   "source": [
    "train.Tags.value_counts()"
   ]
  },
  {
   "cell_type": "code",
   "execution_count": null,
   "metadata": {},
   "outputs": [],
   "source": [
    "# sampling data for faster processing\n",
    "train_set = train.sample(n=50000, random_state=42)\n"
   ]
  },
  {
   "cell_type": "code",
   "execution_count": null,
   "metadata": {},
   "outputs": [],
   "source": [
    "train_set.info()"
   ]
  },
  {
   "cell_type": "code",
   "execution_count": 3,
   "metadata": {},
   "outputs": [
    {
     "ename": "NameError",
     "evalue": "name 'train_set' is not defined",
     "output_type": "error",
     "traceback": [
      "\u001b[0;31m---------------------------------------------------------------------------\u001b[0m",
      "\u001b[0;31mNameError\u001b[0m                                 Traceback (most recent call last)",
      "\u001b[0;32m<ipython-input-3-d1159839df8d>\u001b[0m in \u001b[0;36m<module>\u001b[0;34m\u001b[0m\n\u001b[0;32m----> 1\u001b[0;31m \u001b[0mtrain_set\u001b[0m\u001b[0;34m.\u001b[0m\u001b[0mTags\u001b[0m\u001b[0;34m.\u001b[0m\u001b[0mvalue_counts\u001b[0m\u001b[0;34m(\u001b[0m\u001b[0;34m)\u001b[0m\u001b[0;34m\u001b[0m\u001b[0m\n\u001b[0m",
      "\u001b[0;31mNameError\u001b[0m: name 'train_set' is not defined"
     ]
    }
   ],
   "source": [
    "train_set.Tags.value_counts()"
   ]
  },
  {
   "cell_type": "code",
   "execution_count": 9,
   "metadata": {},
   "outputs": [
    {
     "data": {
      "text/html": [
       "<div>\n",
       "<style scoped>\n",
       "    .dataframe tbody tr th:only-of-type {\n",
       "        vertical-align: middle;\n",
       "    }\n",
       "\n",
       "    .dataframe tbody tr th {\n",
       "        vertical-align: top;\n",
       "    }\n",
       "\n",
       "    .dataframe thead th {\n",
       "        text-align: right;\n",
       "    }\n",
       "</style>\n",
       "<table border=\"1\" class=\"dataframe\">\n",
       "  <thead>\n",
       "    <tr style=\"text-align: right;\">\n",
       "      <th></th>\n",
       "      <th>Id</th>\n",
       "      <th>Title</th>\n",
       "      <th>Body</th>\n",
       "      <th>Tags</th>\n",
       "    </tr>\n",
       "  </thead>\n",
       "  <tbody>\n",
       "    <tr>\n",
       "      <th>779393</th>\n",
       "      <td>779394</td>\n",
       "      <td>LINQ Left Join On Not Equal Rows</td>\n",
       "      <td>&lt;p&gt;Im trying to display rows which does not ex...</td>\n",
       "      <td>linq join inequality</td>\n",
       "    </tr>\n",
       "    <tr>\n",
       "      <th>4988336</th>\n",
       "      <td>4988337</td>\n",
       "      <td>SSL Cert Client Validation - How to?</td>\n",
       "      <td>&lt;p&gt;We're setting up a VIP using F5 load balanc...</td>\n",
       "      <td>shell unix ssl ssl-certificate client-certific...</td>\n",
       "    </tr>\n",
       "    <tr>\n",
       "      <th>5207700</th>\n",
       "      <td>5207701</td>\n",
       "      <td>How to get MGSplitViewController working in Mo...</td>\n",
       "      <td>&lt;p&gt;I downloaded the MGSplitViewController proj...</td>\n",
       "      <td>iphone xcode binding monotouch simulator</td>\n",
       "    </tr>\n",
       "    <tr>\n",
       "      <th>5989550</th>\n",
       "      <td>5989551</td>\n",
       "      <td>Writing my first gtk program, what's the best ...</td>\n",
       "      <td>&lt;p&gt;I've been reading tutorials, but one thing ...</td>\n",
       "      <td>gtk glade</td>\n",
       "    </tr>\n",
       "    <tr>\n",
       "      <th>1847890</th>\n",
       "      <td>1847891</td>\n",
       "      <td>Wordpress 2.8 Widget API is suitable for Worpr...</td>\n",
       "      <td>&lt;p&gt;I am a little confused, the Wordpress 2.8 W...</td>\n",
       "      <td>plugin-development wordpress-version</td>\n",
       "    </tr>\n",
       "  </tbody>\n",
       "</table>\n",
       "</div>"
      ],
      "text/plain": [
       "              Id                                              Title  \\\n",
       "779393    779394                   LINQ Left Join On Not Equal Rows   \n",
       "4988336  4988337               SSL Cert Client Validation - How to?   \n",
       "5207700  5207701  How to get MGSplitViewController working in Mo...   \n",
       "5989550  5989551  Writing my first gtk program, what's the best ...   \n",
       "1847890  1847891  Wordpress 2.8 Widget API is suitable for Worpr...   \n",
       "\n",
       "                                                      Body  \\\n",
       "779393   <p>Im trying to display rows which does not ex...   \n",
       "4988336  <p>We're setting up a VIP using F5 load balanc...   \n",
       "5207700  <p>I downloaded the MGSplitViewController proj...   \n",
       "5989550  <p>I've been reading tutorials, but one thing ...   \n",
       "1847890  <p>I am a little confused, the Wordpress 2.8 W...   \n",
       "\n",
       "                                                      Tags  \n",
       "779393                                linq join inequality  \n",
       "4988336  shell unix ssl ssl-certificate client-certific...  \n",
       "5207700           iphone xcode binding monotouch simulator  \n",
       "5989550                                          gtk glade  \n",
       "1847890               plugin-development wordpress-version  "
      ]
     },
     "execution_count": 9,
     "metadata": {},
     "output_type": "execute_result"
    }
   ],
   "source": [
    "train_set.head()"
   ]
  },
  {
   "cell_type": "code",
   "execution_count": 10,
   "metadata": {},
   "outputs": [
    {
     "data": {
      "text/plain": [
       "'<p>We\\'re setting up a VIP using F5 load balancer in Windows 2008 Server. My IT dept has setup this VPI URL <a href=\"https://mydomain.com\" rel=\"nofollow\">https://mydomain.com</a> &amp; I need to test below scenarios but not sure how to do it?</p>\\n\\n<pre><code>SSL termination should happen for all requests.\\nShould reject/drop the request if client SSL does not match.\\nForward the request to my application, if client SSL matches.\\n</code></pre>\\n\\n<p>Badically, the certificate is configured on Load balancer in such a way that LB will reject the request if client SSL does not match &amp; it\\'ll accept it only if client SSL matches. </p>\\n\\n<p>Can any one tell me how to test this using some shell script or other way?</p>\\n\\n<p>Thanks!</p>\\n'"
      ]
     },
     "execution_count": 10,
     "metadata": {},
     "output_type": "execute_result"
    }
   ],
   "source": [
    "# peek into data\n",
    "train_set.Title.iloc[1:4]\n",
    "train_set.Body.iloc[1]\n",
    "\n",
    "# From the value counts and the title & body, it looks like the texts are about industry and technology"
   ]
  },
  {
   "cell_type": "code",
   "execution_count": 12,
   "metadata": {},
   "outputs": [],
   "source": [
    "#train_set.Title + \" \" + train_set.Body"
   ]
  },
  {
   "cell_type": "code",
   "execution_count": 13,
   "metadata": {},
   "outputs": [
    {
     "name": "stdout",
     "output_type": "stream",
     "text": [
      "before dropping duplicates: 50000\n",
      "after dropping duplicates: 50000\n"
     ]
    }
   ],
   "source": [
    "# Data preprocessing \n",
    "\n",
    "print(\"before dropping duplicates: {}\".format(len(train_set)))\n",
    "\n",
    "# drop duplicates\n",
    "train_set = train_set.drop_duplicates(subset=None, keep='first', inplace=False)\n",
    "\n",
    "print(\"after dropping duplicates: {}\".format(len(train_set)))"
   ]
  },
  {
   "cell_type": "code",
   "execution_count": 14,
   "metadata": {},
   "outputs": [],
   "source": [
    "# clean html tags\n",
    "\n",
    "def get_post(series):\n",
    "    try:\n",
    "        #get title\n",
    "#         test_title = dataframe.Title\n",
    "\n",
    "        # get body\n",
    "#         test_body = dataframe.Body\n",
    "\n",
    "        #get post \n",
    "#         dataframe['post'] = test_title + \" \" + test_body\n",
    "\n",
    "        #clean post\n",
    "        series = series.apply(lambda x: bs(markup=x, features='html.parser').getText())\n",
    "    #     post = soup.getText()\n",
    "\n",
    "        # remove symbols with regex\n",
    "        series = series.apply(lambda x: re.sub(r\"[^a-zA-Z0-9]\",\" \", x))\n",
    "        series = series.apply(lambda x: x.replace('\\n', ' '))\n",
    "        \n",
    "    #     post = re.sub(r\"[^a-zA-Z0-9]\", \" \", post)\n",
    "    except (TypeError, IndexError):\n",
    "        print('typeerror')\n",
    "\n",
    "    return series\n"
   ]
  },
  {
   "cell_type": "code",
   "execution_count": 15,
   "metadata": {},
   "outputs": [],
   "source": [
    "train_set['cleaned_body'] = get_post(train_set.Body)"
   ]
  },
  {
   "cell_type": "code",
   "execution_count": 16,
   "metadata": {},
   "outputs": [
    {
     "data": {
      "text/plain": [
       "779393     Im trying to display rows which does not exist...\n",
       "4988336    We re setting up a VIP using F5 load balancer ...\n",
       "5207700    I downloaded the MGSplitViewController project...\n",
       "5989550    I ve been reading tutorials  but one thing I m...\n",
       "1847890    I am a little confused  the Wordpress 2 8 Widg...\n",
       "Name: cleaned_body, dtype: object"
      ]
     },
     "execution_count": 16,
     "metadata": {},
     "output_type": "execute_result"
    }
   ],
   "source": [
    "train_set.cleaned_body.iloc[:5]"
   ]
  },
  {
   "cell_type": "code",
   "execution_count": 19,
   "metadata": {},
   "outputs": [],
   "source": [
    "# tokenization \n",
    "tokenizer = nltk.WordPunctTokenizer()\n",
    "\n",
    "# word count \n",
    "train_set['word count'] = train_set.cleaned_body.apply(lambda x: len(tokenizer.tokenize(x)))"
   ]
  },
  {
   "cell_type": "code",
   "execution_count": 20,
   "metadata": {},
   "outputs": [
    {
     "data": {
      "text/html": [
       "<div>\n",
       "<style scoped>\n",
       "    .dataframe tbody tr th:only-of-type {\n",
       "        vertical-align: middle;\n",
       "    }\n",
       "\n",
       "    .dataframe tbody tr th {\n",
       "        vertical-align: top;\n",
       "    }\n",
       "\n",
       "    .dataframe thead th {\n",
       "        text-align: right;\n",
       "    }\n",
       "</style>\n",
       "<table border=\"1\" class=\"dataframe\">\n",
       "  <thead>\n",
       "    <tr style=\"text-align: right;\">\n",
       "      <th></th>\n",
       "      <th>Id</th>\n",
       "      <th>Title</th>\n",
       "      <th>Body</th>\n",
       "      <th>Tags</th>\n",
       "      <th>cleaned_body</th>\n",
       "      <th>word count</th>\n",
       "    </tr>\n",
       "  </thead>\n",
       "  <tbody>\n",
       "    <tr>\n",
       "      <th>779393</th>\n",
       "      <td>779394</td>\n",
       "      <td>LINQ Left Join On Not Equal Rows</td>\n",
       "      <td>&lt;p&gt;Im trying to display rows which does not ex...</td>\n",
       "      <td>linq join inequality</td>\n",
       "      <td>Im trying to display rows which does not exist...</td>\n",
       "      <td>136</td>\n",
       "    </tr>\n",
       "    <tr>\n",
       "      <th>4988336</th>\n",
       "      <td>4988337</td>\n",
       "      <td>SSL Cert Client Validation - How to?</td>\n",
       "      <td>&lt;p&gt;We're setting up a VIP using F5 load balanc...</td>\n",
       "      <td>shell unix ssl ssl-certificate client-certific...</td>\n",
       "      <td>We re setting up a VIP using F5 load balancer ...</td>\n",
       "      <td>116</td>\n",
       "    </tr>\n",
       "    <tr>\n",
       "      <th>5207700</th>\n",
       "      <td>5207701</td>\n",
       "      <td>How to get MGSplitViewController working in Mo...</td>\n",
       "      <td>&lt;p&gt;I downloaded the MGSplitViewController proj...</td>\n",
       "      <td>iphone xcode binding monotouch simulator</td>\n",
       "      <td>I downloaded the MGSplitViewController project...</td>\n",
       "      <td>70</td>\n",
       "    </tr>\n",
       "    <tr>\n",
       "      <th>5989550</th>\n",
       "      <td>5989551</td>\n",
       "      <td>Writing my first gtk program, what's the best ...</td>\n",
       "      <td>&lt;p&gt;I've been reading tutorials, but one thing ...</td>\n",
       "      <td>gtk glade</td>\n",
       "      <td>I ve been reading tutorials  but one thing I m...</td>\n",
       "      <td>112</td>\n",
       "    </tr>\n",
       "    <tr>\n",
       "      <th>1847890</th>\n",
       "      <td>1847891</td>\n",
       "      <td>Wordpress 2.8 Widget API is suitable for Worpr...</td>\n",
       "      <td>&lt;p&gt;I am a little confused, the Wordpress 2.8 W...</td>\n",
       "      <td>plugin-development wordpress-version</td>\n",
       "      <td>I am a little confused  the Wordpress 2 8 Widg...</td>\n",
       "      <td>38</td>\n",
       "    </tr>\n",
       "  </tbody>\n",
       "</table>\n",
       "</div>"
      ],
      "text/plain": [
       "              Id                                              Title  \\\n",
       "779393    779394                   LINQ Left Join On Not Equal Rows   \n",
       "4988336  4988337               SSL Cert Client Validation - How to?   \n",
       "5207700  5207701  How to get MGSplitViewController working in Mo...   \n",
       "5989550  5989551  Writing my first gtk program, what's the best ...   \n",
       "1847890  1847891  Wordpress 2.8 Widget API is suitable for Worpr...   \n",
       "\n",
       "                                                      Body  \\\n",
       "779393   <p>Im trying to display rows which does not ex...   \n",
       "4988336  <p>We're setting up a VIP using F5 load balanc...   \n",
       "5207700  <p>I downloaded the MGSplitViewController proj...   \n",
       "5989550  <p>I've been reading tutorials, but one thing ...   \n",
       "1847890  <p>I am a little confused, the Wordpress 2.8 W...   \n",
       "\n",
       "                                                      Tags  \\\n",
       "779393                                linq join inequality   \n",
       "4988336  shell unix ssl ssl-certificate client-certific...   \n",
       "5207700           iphone xcode binding monotouch simulator   \n",
       "5989550                                          gtk glade   \n",
       "1847890               plugin-development wordpress-version   \n",
       "\n",
       "                                              cleaned_body  word count  \n",
       "779393   Im trying to display rows which does not exist...         136  \n",
       "4988336  We re setting up a VIP using F5 load balancer ...         116  \n",
       "5207700  I downloaded the MGSplitViewController project...          70  \n",
       "5989550  I ve been reading tutorials  but one thing I m...         112  \n",
       "1847890  I am a little confused  the Wordpress 2 8 Widg...          38  "
      ]
     },
     "execution_count": 20,
     "metadata": {},
     "output_type": "execute_result"
    }
   ],
   "source": [
    "train_set.head()"
   ]
  },
  {
   "cell_type": "code",
   "execution_count": 21,
   "metadata": {
    "scrolled": true
   },
   "outputs": [
    {
     "data": {
      "text/plain": [
       "android                                          405\n",
       "php                                              256\n",
       "javascript jquery                                214\n",
       "javascript                                       210\n",
       "jquery                                           209\n",
       "c#                                               193\n",
       "java                                             192\n",
       "python                                           157\n",
       "c++                                              141\n",
       "php mysql                                        132\n",
       "html css                                         123\n",
       "mysql                                            120\n",
       "iphone                                            98\n",
       "c# asp.net                                        86\n",
       "css                                               80\n",
       "asp.net                                           79\n",
       "java android                                      78\n",
       "ruby-on-rails                                     72\n",
       "c                                                 71\n",
       "iphone objective-c                                69\n",
       "objective-c                                       53\n",
       "mysql sql                                         52\n",
       "git                                               47\n",
       "r                                                 46\n",
       "sql                                               45\n",
       "javascript html                                   39\n",
       "linux                                             39\n",
       "ruby-on-rails ruby                                38\n",
       "wordpress                                         37\n",
       "javascript jquery html                            36\n",
       "                                                ... \n",
       ".net asp.net vb.net class webforms                 1\n",
       "calculus approximation                             1\n",
       "sql postgresql query-optimization                  1\n",
       "java database-design java-ee dao                   1\n",
       "command-line irc mirc                              1\n",
       "php apache redirect                                1\n",
       "php debugging xdebug                               1\n",
       "conditional cython ifdef                           1\n",
       "sql-server sql-server-express ssms                 1\n",
       "asp.net url iis7                                   1\n",
       "algebraic-geometry projective-space                1\n",
       "named                                              1\n",
       "c++ static extern linkage                          1\n",
       "image-processing opencv photogrammetry             1\n",
       "javascript database arrays object update           1\n",
       "education math game-development                    1\n",
       "asp.net-mvc database file-upload                   1\n",
       "ruby-on-rails testing cucumber uploadify           1\n",
       "c++ templates generics typedef typename            1\n",
       "function postgresql session-variables plpgsql      1\n",
       "mysql sql tsql select casting                      1\n",
       "python list map zip                                1\n",
       ".net gui scripting add-on                          1\n",
       "android osx internet                               1\n",
       "algorithm complexity turing-machines turing        1\n",
       "javascript arrays merge                            1\n",
       "entity-framework-4 lambda                          1\n",
       "r urlencode url-encoding                           1\n",
       "security configuration fail2ban                    1\n",
       "linux security linux-kernel                        1\n",
       "Name: Tags, Length: 38706, dtype: int64"
      ]
     },
     "execution_count": 21,
     "metadata": {},
     "output_type": "execute_result"
    }
   ],
   "source": [
    "train_set.Tags.value_counts()"
   ]
  },
  {
   "cell_type": "code",
   "execution_count": 23,
   "metadata": {},
   "outputs": [],
   "source": [
    "# lemmatizaion \n",
    "\n",
    "lemma = nltk.WordNetLemmatizer()\n",
    "\n",
    "train_set[\"lemmatized_text\"] = train_set.cleaned_body.apply(lambda x: lemma.lemmatize(x))"
   ]
  },
  {
   "cell_type": "code",
   "execution_count": 27,
   "metadata": {},
   "outputs": [
    {
     "name": "stdout",
     "output_type": "stream",
     "text": [
      "<wordcloud.wordcloud.WordCloud object at 0x11b196048>\n"
     ]
    },
    {
     "data": {
      "image/png": "[encoded data removed]",
      "text/plain": [
       "<Figure size 432x288 with 1 Axes>"
      ]
     },
     "metadata": {},
     "output_type": "display_data"
    }
   ],
   "source": [
    "import wordcloud\n",
    "from wordcloud import WordCloud, STOPWORDS\n",
    "from nltk.corpus import stopwords\n",
    "\n",
    "stopword_list = set(stopwords.words(\"english\"))\n",
    "\n",
    "word_cloud = WordCloud(background_color='white',\n",
    "                      stopwords=stopword_list,\n",
    "                      max_words=100,\n",
    "                      max_font_size=50,\n",
    "                      random_state=42).generate(str(train_set.cleaned_body))\n",
    "\n",
    "\n",
    "print(word_cloud)\n",
    "fig = plt.figure(1)\n",
    "plt.imshow(word_cloud)\n",
    "plt.axis('off')\n",
    "plt.show()"
   ]
  },
  {
   "cell_type": "code",
   "execution_count": 30,
   "metadata": {
    "scrolled": false
   },
   "outputs": [
    {
     "data": {
      "text/plain": [
       "TfidfVectorizer(analyzer='word', binary=False, decode_error='strict',\n",
       "        dtype=<class 'numpy.float64'>, encoding='utf-8', input='content',\n",
       "        lowercase=True, max_df=0.8, max_features=1000, min_df=1,\n",
       "        ngram_range=(1, 3), norm='l2', preprocessor=None, smooth_idf=True,\n",
       "        stop_words={'more', 'or', \"hasn't\", 'this', 'before', 'be', 'couldn', 'needn', 's', 'ourselves', 'there', 'a', 'nor', 'o', 'were', 'where', 'i', 'their', 'our', 'it', 'y', 'doesn', 'only', 'yours', 'm', 've', \"hadn't\", 'did', 'myself', \"it's\", 'all', 'now', 'the', 'she', \"she's\", 'same', 'over', 'ar...cause', \"isn't\", 'out', 'about', 'you', 'been', \"you'll\", 'will', 'had', 'isn', 'won', 'has', 'his'},\n",
       "        strip_accents=None, sublinear_tf=False,\n",
       "        token_pattern='(?u)\\\\b\\\\w\\\\w+\\\\b', tokenizer=None, use_idf=True,\n",
       "        vocabulary=None)"
      ]
     },
     "execution_count": 30,
     "metadata": {},
     "output_type": "execute_result"
    }
   ],
   "source": [
    "# feature extraction \n",
    "\n",
    "from sklearn.feature_extraction.text import TfidfVectorizer\n",
    "\n",
    "tf_idf = TfidfVectorizer(max_df=0.8, \n",
    "                         stop_words=stopword_list, \n",
    "                         max_features=1000,\n",
    "                        ngram_range=(1,3))\n",
    "\n",
    "tf_idf.fit(train_set.cleaned_body)"
   ]
  },
  {
   "cell_type": "code",
   "execution_count": 35,
   "metadata": {},
   "outputs": [],
   "source": [
    "doc = pd.Series(train_set.cleaned_body[:500])\n",
    "doc_vector = tf_idf.transform(doc)"
   ]
  },
  {
   "cell_type": "code",
   "execution_count": 43,
   "metadata": {
    "scrolled": false
   },
   "outputs": [
    {
     "data": {
      "text/plain": [
       "pandas.core.series.Series"
      ]
     },
     "execution_count": 43,
     "metadata": {},
     "output_type": "execute_result"
    }
   ],
   "source": [
    "type(doc)"
   ]
  },
  {
   "cell_type": "code",
   "execution_count": 40,
   "metadata": {},
   "outputs": [],
   "source": [
    "from scipy.sparse import coo_matrix\n",
    "\n",
    "def sort_coo(coo_matrix):\n",
    "    tuples = zip(coo_matrix.col, coo_matrix.data)\n",
    "    return sorted(tuples, key=lambda x: (x[1], x[0]), reverse=True)\n",
    "\n",
    "def extract_topn_from_vector(feature_names, sorted_items, topn=10):\n",
    "    \"\"\"get the feature names and tf-idf score of top n items\"\"\"\n",
    "    \n",
    "    #use only topn items from vector\n",
    "    sorted_items = sorted_items[:topn]\n",
    "    score_vals = []\n",
    "    feature_vals = []\n",
    "    \n",
    "    # word index and corresponding tf-idf score\n",
    "    for idx, score in sorted_items:\n",
    "        \n",
    "        #keep track of feature name and its corresponding score\n",
    "        score_vals.append(round(score, 3))\n",
    "        feature_vals.append(feature_names[idx])\n",
    "\n",
    "    #create a tuples of feature,score\n",
    "    #results = zip(feature_vals,score_vals)\n",
    "    results= {}\n",
    "    for idx in range(len(feature_vals)):\n",
    "        results[feature_vals[idx]]=score_vals[idx]\n",
    "    \n",
    "    return results\n",
    "#sort the tf-idf vectors by descending order of scores\n",
    "sorted_items=sort_coo(doc_vector.tocoo())\n",
    "#extract only the top n; n here is 10\n",
    "feature_names = tf_idf.get_feature_names()\n",
    "keywords=extract_topn_from_vector(feature_names,sorted_items,5)\n",
    " "
   ]
  },
  {
   "cell_type": "code",
   "execution_count": 44,
   "metadata": {
    "scrolled": true
   },
   "outputs": [
    {
     "data": {
      "text/plain": [
       "'Im trying to display rows which does not exist from the other table using LINQ  can anyone help me  Here is the sql im using  select   from table1  left join table2 on  table1 col1   table2 col1  and  table1 col2   table2 col2 where table2 col1 is null and table2 col2 is null  Already searched and found some solution  Here is what i did so far  from t1 in table1 where    from t2 in table1   join t3 in table2 on   new   t2 col1  t2 col2      equals    new   t3 col1  t3 col2     select t2 PK  Contains t1 PK    select t1  The above code works well but im just wondering if that is the only solution i can use  I mean  instead of using JOIN and CONTAINS method  can t we use left join linq directly with a where clause  '"
      ]
     },
     "execution_count": 44,
     "metadata": {},
     "output_type": "execute_result"
    }
   ],
   "source": [
    "doc.iloc[0]"
   ]
  },
  {
   "cell_type": "code",
   "execution_count": 45,
   "metadata": {
    "scrolled": false
   },
   "outputs": [
    {
     "name": "stdout",
     "output_type": "stream",
     "text": [
      "date 0.97\n",
      "template 0.907\n",
      "group 0.884\n",
      "xsl 0.877\n",
      "lib 0.877\n"
     ]
    }
   ],
   "source": [
    "for k in keywords:\n",
    "    print(k, keywords[k])"
   ]
  },
  {
   "cell_type": "markdown",
   "metadata": {},
   "source": [
    "reference: https://www.kaggle.com/tooezy/basic-keyword-extraction/notebook"
   ]
  }
 ],
 "metadata": {
  "kernelspec": {
   "display_name": "Python 3",
   "language": "python",
   "name": "python3"
  },
  "language_info": {
   "codemirror_mode": {
    "name": "ipython",
    "version": 3
   },
   "file_extension": ".py",
   "mimetype": "text/x-python",
   "name": "python",
   "nbconvert_exporter": "python",
   "pygments_lexer": "ipython3",
   "version": "3.6.5"
  }
 },
 "nbformat": 4,
 "nbformat_minor": 2
}
