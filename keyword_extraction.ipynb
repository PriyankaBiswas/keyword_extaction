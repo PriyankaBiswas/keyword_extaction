{
 "cells": [
  {
   "cell_type": "code",
   "execution_count": 1,
   "metadata": {},
   "outputs": [],
   "source": [
    "import pandas as pd\n",
    "import numpy as np"
   ]
  },
  {
   "cell_type": "code",
   "execution_count": 6,
   "metadata": {},
   "outputs": [],
   "source": [
    "import RAKE"
   ]
  },
  {
   "cell_type": "code",
   "execution_count": 8,
   "metadata": {},
   "outputs": [],
   "source": [
    "rake_object = RAKE.Rake(\"stoplist.txt\")"
   ]
  },
  {
   "cell_type": "code",
   "execution_count": 12,
   "metadata": {},
   "outputs": [],
   "source": [
    "sample = open(\"cl_job.txt\", 'r')\n",
    "text = sample.read()\n"
   ]
  },
  {
   "cell_type": "code",
   "execution_count": 13,
   "metadata": {},
   "outputs": [
    {
     "data": {
      "text/plain": [
       "'Grammarly Computational Linguist JOb posting\\nThe opportunity\\n\\nGrammarly empowers people to thrive and connect, whenever and wherever they communicate. More than 20 million people around the world use our AI-powered writing assistant every day. All of this begins with our team collaborating in a values-driven and learning-oriented environment.\\n\\nTo achieve our ambitious goals, we’re looking for a curious Computational Linguist with an interest in natural language processing, a passion for English, and an excellent knowledge of grammar. The role is vital to our ambitious journey to help people worldwide improve their communication, and the work will influence our product roadmap and help chart the course for the future of our company.\\n\\nGrammarly’s engineers and researchers have the freedom to innovate and uncover breakthroughs—and, in turn, influence our product roadmap. The complexity of our technical challenges is growing rapidly as we scale our interfaces, algorithms, and infrastructure. Read more about our stack or hear from our team on our technical blog.\\n\\nYour impact\\n\\nTo process natural language texts properly, we need to understand how the language functions, how it is learned, and how it evolves. This role will join our team of computational linguists and research engineers working with complex algorithms for detecting and correcting errors, ambiguities, and inefficiencies in natural language texts. As a Computational Linguist at Grammarly, you will:\\n• Use rule-based and statistical methods in NLP to develop error-correction, style-improvement, consistency, and clarity checks as well as tone and sensitivity suggestions.\\n• Conduct research on a variety of tasks, work with large corpora, and design new algorithms.\\n• Research different modes, genres, and styles of writing to improve Grammarly’s performance.\\n• Improve current text processing tools and implement new ones.\\n• Coordinate resource-creation projects.\\n• Mentor junior computational linguists.\\n• Deepen knowledge and skills in NLP, and develop ML skills, depending on career trajectory.\\n\\nWe’re looking for someone who\\n• Embodies our EAGER values—is ethical, adaptable, gritty, empathetic, and remarkable.\\n• Holds an MS or PhD in Linguistics, Computational Linguistics, or another linguistics-related discipline.\\n• Is fluent in English and have a great understanding of English grammar, syntax, semantics, and usage, especially for writing.\\n• Has at least three years of experience in Computational Linguistics/NLP.\\n• Has substantial experience in at least one programming language as well as working knowledge of NLP libraries and understanding of statistical methods in NLP.\\n• Values and practices strong problem-solving, critical thinking, and analytical skills. (Experience teaching English as a first or a second language is preferred.)\\n\\nSupport for you, professionally and personally\\n• Professional growth: We hire people we trust, and we give team members autonomy to do their best work. We also support professional development with training, coaching, and regular feedback.\\n• A connected team: Grammarly builds products that help people connect, and we apply this mindset to our own team. We have a highly collaborative culture supported by our EAGER values. We also take time to celebrate our colleagues and accomplishments with global, local, and team-specific events and programs.\\n• Comprehensive benefits: Grammarly offers all team members competitive pay along with a benefits package that includes superior health care. We also offer ample and defined time off, catered lunches, gym and recreation stipends, admission discounts, and more.\\n\\nWe encourage you to apply\\n\\nAt Grammarly, we value our differences, and we encourage all—especially those whose identities are traditionally underrepresented in tech organizations—to apply. We do not discriminate on the basis of race, religion, color, gender expression or identity, sexual orientation, national origin, citizenship, age, marital status, veteran status, disability status, or any other characteristic protected by law. Grammarly will consider qualified applicants with criminal histories in a manner consistent with the San Francisco Fair Chance Ordinance. Grammarly is an equal opportunity employer and participant in the U.S. Federal E-Verify program'"
      ]
     },
     "execution_count": 13,
     "metadata": {},
     "output_type": "execute_result"
    }
   ],
   "source": [
    "text"
   ]
  },
  {
   "cell_type": "code",
   "execution_count": 14,
   "metadata": {
    "scrolled": true
   },
   "outputs": [
    {
     "name": "stdout",
     "output_type": "stream",
     "text": [
      "keywords [('san francisco fair chance ordinance', 25.0), ('process natural language texts properly', 20.333333333333332), ('grammarly computational linguist job posting', 18.433333333333334), ('• coordinate resource-creation projects', 16.0), ('practices strong problem-solving', 16.0), ('highly collaborative culture supported', 16.0), ('includes superior health care', 16.0), ('federal e-verify program', 16.0), ('give team members autonomy', 14.25), ('team members competitive pay', 14.25), ('ai-powered writing assistant', 14.0), ('• mentor junior computational linguists', 14.0), ('opportunity\\n\\ngrammarly empowers people', 12.2), ('natural language texts', 10.333333333333332), ('equal opportunity employer', 9.5), ('curious computational linguist', 9.333333333333334), ('natural language processing', 9.333333333333332), ('learning-oriented environment', 9.0), ('develop error-correction', 9.0), ('personally\\n• professional growth', 9.0), ('linguistics-related discipline', 8.25), ('team-specific events', 8.25), ('people worldwide improve', 8.1), ('grammarly builds products', 8.1), ('develop ml skills', 8.0), ('support professional development', 8.0), ('computational linguistics/nlp', 6.85), ('research engineers working', 6.5), ('computational linguist', 6.333333333333334), ('computational linguists', 6.0), ('computational linguistics', 5.25), ('language functions', 4.666666666666666), ('programming language', 4.666666666666666), ('20 million people', 4.6), ('improve grammarly', 4.6), ('hire people', 4.6), ('working knowledge', 4.5), ('team collaborating', 4.25), ('connected team', 4.25), ('people connect', 4.1), ('grammarly offers', 4.1), ('ambitious goals', 4.0), ('excellent knowledge', 4.0), ('ambitious journey', 4.0), ('product roadmap', 4.0), ('uncover breakthroughs—', 4.0), ('technical challenges', 4.0), ('growing rapidly', 4.0), ('technical blog', 4.0), ('correcting errors', 4.0), ('rule-based', 4.0), ('statistical methods', 4.0), ('style-improvement', 4.0), ('clarity checks', 4.0), ('sensitivity suggestions', 4.0), ('• conduct research', 4.0), ('large corpora', 4.0), ('• deepen knowledge', 4.0), ('career trajectory', 4.0), ('critical thinking', 4.0), ('analytical skills', 4.0), ('regular feedback', 4.0), ('• comprehensive benefits', 4.0), ('benefits package', 4.0), ('offer ample', 4.0), ('catered lunches', 4.0), ('recreation stipends', 4.0), ('admission discounts', 4.0), ('traditionally underrepresented', 4.0), ('tech organizations—', 4.0), ('gender expression', 4.0), ('sexual orientation', 4.0), ('national origin', 4.0), ('marital status', 4.0), ('veteran status', 4.0), ('disability status', 4.0), ('characteristic protected', 4.0), ('qualified applicants', 4.0), ('criminal histories', 4.0), ('manner consistent', 4.0), ('values-driven', 3.75), ('eager values—', 3.75), ('eager values', 3.75), ('substantial experience', 3.666666666666667), ('experience teaching', 3.666666666666667), ('nlp libraries', 3.6), ('great understanding', 3.5), ('defined time', 3.5), ('complex algorithms', 3.333333333333333), ('language', 2.6666666666666665), ('team', 2.25), ('linguistics', 2.25), ('grammarly', 2.1), ('engineers', 2.0), ('• research', 2.0), ('writing', 2.0), ('skills', 2.0), ('support', 2.0), ('• values', 1.75), ('experience', 1.6666666666666667), ('nlp', 1.6), ('connect', 1.5), ('understanding', 1.5), ('time', 1.5), ('algorithms', 1.3333333333333333), ('thrive', 1.0), ('communicate', 1.0), ('world', 1.0), ('day', 1.0), ('begins', 1.0), ('achieve', 1.0), ('interest', 1.0), ('passion', 1.0), ('grammar', 1.0), ('role', 1.0), ('vital', 1.0), ('communication', 1.0), ('work', 1.0), ('influence', 1.0), ('chart', 1.0), ('future', 1.0), ('company', 1.0), ('researchers', 1.0), ('freedom', 1.0), ('innovate', 1.0), ('turn', 1.0), ('complexity', 1.0), ('scale', 1.0), ('interfaces', 1.0), ('infrastructure', 1.0), ('read', 1.0), ('stack', 1.0), ('hear', 1.0), ('impact', 1.0), ('understand', 1.0), ('learned', 1.0), ('evolves', 1.0), ('join', 1.0), ('detecting', 1.0), ('ambiguities', 1.0), ('inefficiencies', 1.0), ('consistency', 1.0), ('tone', 1.0), ('variety', 1.0), ('tasks', 1.0), ('design', 1.0), ('modes', 1.0), ('genres', 1.0), ('styles', 1.0), ('performance', 1.0), ('implement', 1.0), ('depending', 1.0), ('• embodies', 1.0), ('ethical', 1.0), ('adaptable', 1.0), ('gritty', 1.0), ('empathetic', 1.0), ('remarkable', 1.0), ('• holds', 1.0), ('ms', 1.0), ('phd', 1.0), ('fluent', 1.0), ('syntax', 1.0), ('semantics', 1.0), ('usage', 1.0), ('years', 1.0), ('preferred', 1.0), ('professionally', 1.0), ('trust', 1.0), ('training', 1.0), ('coaching', 1.0), ('apply', 1.0), ('mindset', 1.0), ('celebrate', 1.0), ('colleagues', 1.0), ('accomplishments', 1.0), ('global', 1.0), ('local', 1.0), ('programs', 1.0), ('gym', 1.0), ('encourage', 1.0), ('differences', 1.0), ('identities', 1.0), ('discriminate', 1.0), ('basis', 1.0), ('race', 1.0), ('religion', 1.0), ('color', 1.0), ('identity', 1.0), ('citizenship', 1.0), ('age', 1.0), ('law', 1.0), ('participant', 1.0), ('•', 0), ('—', 0)]\n"
     ]
    }
   ],
   "source": [
    "keywords = rake_object.run(text)\n",
    "print(\"keywords\", keywords)"
   ]
  },
  {
   "cell_type": "code",
   "execution_count": null,
   "metadata": {},
   "outputs": [],
   "source": []
  }
 ],
 "metadata": {
  "kernelspec": {
   "display_name": "Python 3",
   "language": "python",
   "name": "python3"
  },
  "language_info": {
   "codemirror_mode": {
    "name": "ipython",
    "version": 3
   },
   "file_extension": ".py",
   "mimetype": "text/x-python",
   "name": "python",
   "nbconvert_exporter": "python",
   "pygments_lexer": "ipython3",
   "version": "3.6.5"
  }
 },
 "nbformat": 4,
 "nbformat_minor": 2
}
