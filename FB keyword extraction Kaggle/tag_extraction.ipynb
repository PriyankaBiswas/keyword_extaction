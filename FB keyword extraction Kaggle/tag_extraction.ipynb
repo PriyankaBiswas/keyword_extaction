{
 "cells": [
  {
   "cell_type": "code",
   "execution_count": 21,
   "metadata": {},
   "outputs": [],
   "source": [
    "#load libraries\n",
    "import pandas as pd\n",
    "import numpy as np\n",
    "import matplotlib \n",
    "%matplotlib inline\n",
    "import os\n",
    "\n",
    "import time\n",
    "\n",
    "from bs4 import BeautifulSoup as bs\n",
    "import re"
   ]
  },
  {
   "cell_type": "code",
   "execution_count": 2,
   "metadata": {},
   "outputs": [],
   "source": [
    "# load the data  - 6 ml data points, takes a while to read\n",
    "\n",
    "train = pd.read_csv(\"train.csv\")"
   ]
  },
  {
   "cell_type": "code",
   "execution_count": 3,
   "metadata": {},
   "outputs": [
    {
     "data": {
      "text/html": [
       "<div>\n",
       "<style scoped>\n",
       "    .dataframe tbody tr th:only-of-type {\n",
       "        vertical-align: middle;\n",
       "    }\n",
       "\n",
       "    .dataframe tbody tr th {\n",
       "        vertical-align: top;\n",
       "    }\n",
       "\n",
       "    .dataframe thead th {\n",
       "        text-align: right;\n",
       "    }\n",
       "</style>\n",
       "<table border=\"1\" class=\"dataframe\">\n",
       "  <thead>\n",
       "    <tr style=\"text-align: right;\">\n",
       "      <th></th>\n",
       "      <th>Id</th>\n",
       "      <th>Title</th>\n",
       "      <th>Body</th>\n",
       "      <th>Tags</th>\n",
       "    </tr>\n",
       "  </thead>\n",
       "  <tbody>\n",
       "    <tr>\n",
       "      <th>0</th>\n",
       "      <td>1</td>\n",
       "      <td>How to check if an uploaded file is an image w...</td>\n",
       "      <td>&lt;p&gt;I'd like to check if an uploaded file is an...</td>\n",
       "      <td>php image-processing file-upload upload mime-t...</td>\n",
       "    </tr>\n",
       "    <tr>\n",
       "      <th>1</th>\n",
       "      <td>2</td>\n",
       "      <td>How can I prevent firefox from closing when I ...</td>\n",
       "      <td>&lt;p&gt;In my favorite editor (vim), I regularly us...</td>\n",
       "      <td>firefox</td>\n",
       "    </tr>\n",
       "    <tr>\n",
       "      <th>2</th>\n",
       "      <td>3</td>\n",
       "      <td>R Error Invalid type (list) for variable</td>\n",
       "      <td>&lt;p&gt;I am import matlab file and construct a dat...</td>\n",
       "      <td>r matlab machine-learning</td>\n",
       "    </tr>\n",
       "    <tr>\n",
       "      <th>3</th>\n",
       "      <td>4</td>\n",
       "      <td>How do I replace special characters in a URL?</td>\n",
       "      <td>&lt;p&gt;This is probably very simple, but I simply ...</td>\n",
       "      <td>c# url encoding</td>\n",
       "    </tr>\n",
       "    <tr>\n",
       "      <th>4</th>\n",
       "      <td>5</td>\n",
       "      <td>How to modify whois contact details?</td>\n",
       "      <td>&lt;pre&gt;&lt;code&gt;function modify(.......)\\n{\\n  $mco...</td>\n",
       "      <td>php api file-get-contents</td>\n",
       "    </tr>\n",
       "  </tbody>\n",
       "</table>\n",
       "</div>"
      ],
      "text/plain": [
       "   Id                                              Title  \\\n",
       "0   1  How to check if an uploaded file is an image w...   \n",
       "1   2  How can I prevent firefox from closing when I ...   \n",
       "2   3           R Error Invalid type (list) for variable   \n",
       "3   4      How do I replace special characters in a URL?   \n",
       "4   5               How to modify whois contact details?   \n",
       "\n",
       "                                                Body  \\\n",
       "0  <p>I'd like to check if an uploaded file is an...   \n",
       "1  <p>In my favorite editor (vim), I regularly us...   \n",
       "2  <p>I am import matlab file and construct a dat...   \n",
       "3  <p>This is probably very simple, but I simply ...   \n",
       "4  <pre><code>function modify(.......)\\n{\\n  $mco...   \n",
       "\n",
       "                                                Tags  \n",
       "0  php image-processing file-upload upload mime-t...  \n",
       "1                                            firefox  \n",
       "2                          r matlab machine-learning  \n",
       "3                                    c# url encoding  \n",
       "4                          php api file-get-contents  "
      ]
     },
     "execution_count": 3,
     "metadata": {},
     "output_type": "execute_result"
    }
   ],
   "source": [
    "train.head()"
   ]
  },
  {
   "cell_type": "code",
   "execution_count": 4,
   "metadata": {},
   "outputs": [
    {
     "name": "stdout",
     "output_type": "stream",
     "text": [
      "<class 'pandas.core.frame.DataFrame'>\n",
      "RangeIndex: 6034195 entries, 0 to 6034194\n",
      "Data columns (total 4 columns):\n",
      "Id       int64\n",
      "Title    object\n",
      "Body     object\n",
      "Tags     object\n",
      "dtypes: int64(1), object(3)\n",
      "memory usage: 184.1+ MB\n"
     ]
    }
   ],
   "source": [
    "train.info()"
   ]
  },
  {
   "cell_type": "code",
   "execution_count": 5,
   "metadata": {},
   "outputs": [
    {
     "data": {
      "text/plain": [
       "android                                                 49783\n",
       "php                                                     30664\n",
       "jquery                                                  28079\n",
       "javascript                                              24995\n",
       "javascript jquery                                       24955\n",
       "java                                                    23751\n",
       "c#                                                      22889\n",
       "python                                                  16470\n",
       "php mysql                                               15798\n",
       "mysql                                                   15362\n",
       "c++                                                     15328\n",
       "html css                                                13296\n",
       "iphone                                                  12552\n",
       "asp.net                                                 11586\n",
       "ruby-on-rails                                           10066\n",
       "c# asp.net                                               9963\n",
       "css                                                      8738\n",
       "java android                                             8674\n",
       "c                                                        8479\n",
       "c# .net                                                  6082\n",
       "iphone objective-c                                       5901\n",
       "r                                                        5860\n",
       "git                                                      5796\n",
       "javascript html                                          5598\n",
       "sql                                                      5140\n",
       "objective-c                                              5107\n",
       "javascript jquery html                                   5073\n",
       "ruby                                                     4970\n",
       "asp.net-mvc                                              4888\n",
       "mysql sql                                                4768\n",
       "                                                        ...  \n",
       "restful-authentication asp.net-mvc-4 asp.net-web-api        1\n",
       "osx-snow-leopard macports avr-gcc cunit                     1\n",
       "python sql rows database                                    1\n",
       "objective-c reflection decomposition                        1\n",
       "iphone objective-c ipad objective-c-runtime                 1\n",
       "linux unix memory memcached caching                         1\n",
       "hex calculator                                              1\n",
       "android google-maps maps google-maps-android-api-2          1\n",
       "c# google gdata-api picasa                                  1\n",
       "javascript html webforms formatting                         1\n",
       "ajax chat bandwidth                                         1\n",
       "java eclipse apache html5 spring-mvc                        1\n",
       "iphone opengl-es colors ipad ios-simulator                  1\n",
       "jquery iframe links href                                    1\n",
       "jquery jquery-ui jquery-ui-sortable jquery-droppable        1\n",
       "objective-c ipad cocos2d-iphone storekit appirater          1\n",
       "html hyperlink svg                                          1\n",
       "java jsf parameter-passing managed-bean                     1\n",
       "asp.net jquery-ajax modal-dialog                            1\n",
       "jquery ajax google-ad-manager                               1\n",
       "python regex unicode python-3.3                             1\n",
       "javascript text csv d3.js word-cloud                        1\n",
       "interface resharper                                         1\n",
       "spring mvc spring-mvc annotations                           1\n",
       "iphone ios cocos2d box2d chipmunk                           1\n",
       "php codeigniter sockets fgets fsockopen                     1\n",
       "java mysql jdbc ipv6                                        1\n",
       "jquery html calculator                                      1\n",
       "java html mvc spring escaping                               1\n",
       "jquery ajax http-headers xmlhttprequest jqxhr               1\n",
       "Name: Tags, Length: 2110906, dtype: int64"
      ]
     },
     "execution_count": 5,
     "metadata": {},
     "output_type": "execute_result"
    }
   ],
   "source": [
    "train.Tags.value_counts()"
   ]
  },
  {
   "cell_type": "code",
   "execution_count": 6,
   "metadata": {},
   "outputs": [],
   "source": [
    "# sampling data for faster processing\n",
    "train_set = train.sample(n=75000, random_state=42)\n"
   ]
  },
  {
   "cell_type": "code",
   "execution_count": 7,
   "metadata": {},
   "outputs": [
    {
     "name": "stdout",
     "output_type": "stream",
     "text": [
      "<class 'pandas.core.frame.DataFrame'>\n",
      "Int64Index: 500000 entries, 779393 to 1862034\n",
      "Data columns (total 4 columns):\n",
      "Id       500000 non-null int64\n",
      "Title    500000 non-null object\n",
      "Body     500000 non-null object\n",
      "Tags     499997 non-null object\n",
      "dtypes: int64(1), object(3)\n",
      "memory usage: 19.1+ MB\n"
     ]
    }
   ],
   "source": [
    "train_set.info()"
   ]
  },
  {
   "cell_type": "code",
   "execution_count": 8,
   "metadata": {},
   "outputs": [
    {
     "data": {
      "text/plain": [
       "android                                                 4114\n",
       "php                                                     2415\n",
       "jquery                                                  2374\n",
       "javascript                                              2110\n",
       "c#                                                      2018\n",
       "java                                                    2017\n",
       "javascript jquery                                       2011\n",
       "python                                                  1386\n",
       "mysql                                                   1313\n",
       "c++                                                     1295\n",
       "php mysql                                               1287\n",
       "html css                                                1128\n",
       "iphone                                                  1043\n",
       "asp.net                                                  914\n",
       "ruby-on-rails                                            822\n",
       "c# asp.net                                               808\n",
       "java android                                             723\n",
       "css                                                      718\n",
       "c                                                        671\n",
       "iphone objective-c                                       512\n",
       "c# .net                                                  496\n",
       "r                                                        489\n",
       "git                                                      467\n",
       "javascript html                                          464\n",
       "sql                                                      448\n",
       "objective-c                                              418\n",
       "asp.net-mvc                                              417\n",
       "javascript jquery html                                   405\n",
       "ruby-on-rails ruby                                       381\n",
       "ruby                                                     377\n",
       "                                                        ... \n",
       "linux security http                                        1\n",
       "html css .htaccess seo gzip                                1\n",
       "mobile phonegap monetization                               1\n",
       "perl md5 ksh                                               1\n",
       "solaris aix                                                1\n",
       "sql performance design-patterns transactions               1\n",
       "ruby-on-rails versioning database-versioning               1\n",
       "custom-post-types categories wp-query taxonomy terms       1\n",
       "adobe http-authentication cmis adobe-drive                 1\n",
       "windows iis ruby-on-rails ruby redmine                     1\n",
       "html5 offline-caching offline-mode offline-browsing        1\n",
       "java linux graphics                                        1\n",
       "visual-studio visual-studio-2008 msbuild ilmerge           1\n",
       "windows command-line lock                                  1\n",
       "algorithm math random shuffle                              1\n",
       "vb.net string linq silverlight-4.0 expression              1\n",
       "php html date web                                          1\n",
       "optimization assembly x86 intel                            1\n",
       "windows-server-2003 ip iis6 subnet                         1\n",
       "arrays ruby-on-rails-3 ruby-1.9.2                          1\n",
       "android cocos2d cocos2d-x                                  1\n",
       "javascript git branching-and-merging                       1\n",
       "asp.net design datalist                                    1\n",
       "windows-7 windows-update sony-vaio brightness sony         1\n",
       "java url tomcat6 jdk1.5                                    1\n",
       "postgresql apt debian-lenny debian-etch dist-upgrade       1\n",
       "windows ubuntu remote-desktop                              1\n",
       "haskell ghc cabal cabal-install                            1\n",
       "c# winforms ui-automation                                  1\n",
       "c++ 3d                                                     1\n",
       "Name: Tags, Length: 311398, dtype: int64"
      ]
     },
     "execution_count": 8,
     "metadata": {},
     "output_type": "execute_result"
    }
   ],
   "source": [
    "train_set.Tags.value_counts()"
   ]
  },
  {
   "cell_type": "code",
   "execution_count": 9,
   "metadata": {},
   "outputs": [
    {
     "data": {
      "text/html": [
       "<div>\n",
       "<style scoped>\n",
       "    .dataframe tbody tr th:only-of-type {\n",
       "        vertical-align: middle;\n",
       "    }\n",
       "\n",
       "    .dataframe tbody tr th {\n",
       "        vertical-align: top;\n",
       "    }\n",
       "\n",
       "    .dataframe thead th {\n",
       "        text-align: right;\n",
       "    }\n",
       "</style>\n",
       "<table border=\"1\" class=\"dataframe\">\n",
       "  <thead>\n",
       "    <tr style=\"text-align: right;\">\n",
       "      <th></th>\n",
       "      <th>Id</th>\n",
       "      <th>Title</th>\n",
       "      <th>Body</th>\n",
       "      <th>Tags</th>\n",
       "    </tr>\n",
       "  </thead>\n",
       "  <tbody>\n",
       "    <tr>\n",
       "      <th>779393</th>\n",
       "      <td>779394</td>\n",
       "      <td>LINQ Left Join On Not Equal Rows</td>\n",
       "      <td>&lt;p&gt;Im trying to display rows which does not ex...</td>\n",
       "      <td>linq join inequality</td>\n",
       "    </tr>\n",
       "    <tr>\n",
       "      <th>4988336</th>\n",
       "      <td>4988337</td>\n",
       "      <td>SSL Cert Client Validation - How to?</td>\n",
       "      <td>&lt;p&gt;We're setting up a VIP using F5 load balanc...</td>\n",
       "      <td>shell unix ssl ssl-certificate client-certific...</td>\n",
       "    </tr>\n",
       "    <tr>\n",
       "      <th>5207700</th>\n",
       "      <td>5207701</td>\n",
       "      <td>How to get MGSplitViewController working in Mo...</td>\n",
       "      <td>&lt;p&gt;I downloaded the MGSplitViewController proj...</td>\n",
       "      <td>iphone xcode binding monotouch simulator</td>\n",
       "    </tr>\n",
       "    <tr>\n",
       "      <th>5989550</th>\n",
       "      <td>5989551</td>\n",
       "      <td>Writing my first gtk program, what's the best ...</td>\n",
       "      <td>&lt;p&gt;I've been reading tutorials, but one thing ...</td>\n",
       "      <td>gtk glade</td>\n",
       "    </tr>\n",
       "    <tr>\n",
       "      <th>1847890</th>\n",
       "      <td>1847891</td>\n",
       "      <td>Wordpress 2.8 Widget API is suitable for Worpr...</td>\n",
       "      <td>&lt;p&gt;I am a little confused, the Wordpress 2.8 W...</td>\n",
       "      <td>plugin-development wordpress-version</td>\n",
       "    </tr>\n",
       "  </tbody>\n",
       "</table>\n",
       "</div>"
      ],
      "text/plain": [
       "              Id                                              Title  \\\n",
       "779393    779394                   LINQ Left Join On Not Equal Rows   \n",
       "4988336  4988337               SSL Cert Client Validation - How to?   \n",
       "5207700  5207701  How to get MGSplitViewController working in Mo...   \n",
       "5989550  5989551  Writing my first gtk program, what's the best ...   \n",
       "1847890  1847891  Wordpress 2.8 Widget API is suitable for Worpr...   \n",
       "\n",
       "                                                      Body  \\\n",
       "779393   <p>Im trying to display rows which does not ex...   \n",
       "4988336  <p>We're setting up a VIP using F5 load balanc...   \n",
       "5207700  <p>I downloaded the MGSplitViewController proj...   \n",
       "5989550  <p>I've been reading tutorials, but one thing ...   \n",
       "1847890  <p>I am a little confused, the Wordpress 2.8 W...   \n",
       "\n",
       "                                                      Tags  \n",
       "779393                                linq join inequality  \n",
       "4988336  shell unix ssl ssl-certificate client-certific...  \n",
       "5207700           iphone xcode binding monotouch simulator  \n",
       "5989550                                          gtk glade  \n",
       "1847890               plugin-development wordpress-version  "
      ]
     },
     "execution_count": 9,
     "metadata": {},
     "output_type": "execute_result"
    }
   ],
   "source": [
    "train_set.head()"
   ]
  },
  {
   "cell_type": "code",
   "execution_count": 12,
   "metadata": {},
   "outputs": [
    {
     "data": {
      "text/plain": [
       "'<p>We\\'re setting up a VIP using F5 load balancer in Windows 2008 Server. My IT dept has setup this VPI URL <a href=\"https://mydomain.com\" rel=\"nofollow\">https://mydomain.com</a> &amp; I need to test below scenarios but not sure how to do it?</p>\\n\\n<pre><code>SSL termination should happen for all requests.\\nShould reject/drop the request if client SSL does not match.\\nForward the request to my application, if client SSL matches.\\n</code></pre>\\n\\n<p>Badically, the certificate is configured on Load balancer in such a way that LB will reject the request if client SSL does not match &amp; it\\'ll accept it only if client SSL matches. </p>\\n\\n<p>Can any one tell me how to test this using some shell script or other way?</p>\\n\\n<p>Thanks!</p>\\n'"
      ]
     },
     "execution_count": 12,
     "metadata": {},
     "output_type": "execute_result"
    }
   ],
   "source": [
    "# peek into data\n",
    "train_set.Title.iloc[1:4]\n",
    "train_set.Body.iloc[1]\n",
    "\n",
    "# From the value counts and the title & body, it looks like the texts are about industry and technology"
   ]
  },
  {
   "cell_type": "code",
   "execution_count": 27,
   "metadata": {},
   "outputs": [
    {
     "data": {
      "text/plain": [
       "779393     LINQ Left Join On Not Equal Rows <p>Im trying ...\n",
       "4988336    SSL Cert Client Validation - How to? <p>We're ...\n",
       "5207700    How to get MGSplitViewController working in Mo...\n",
       "5989550    Writing my first gtk program, what's the best ...\n",
       "1847890    Wordpress 2.8 Widget API is suitable for Worpr...\n",
       "5535870    How to build url in smarty template? <p>In tem...\n",
       "2191009    Specified cast is not valid #3 <p>I have this ...\n",
       "2373202    Blackberry - application signing <p>From what ...\n",
       "1322986    Replace null cells with 0 or blank <p>How can ...\n",
       "4822896    java multithread programming memory consistenc...\n",
       "1387621    Custom tableview in appcelerator titanium <p>I...\n",
       "4989456    Asp.net WebApi supports json, xml, jsonp? <p>T...\n",
       "1938688    Deployment of Tomcat7 WAR <p>I ran <code>dpkg ...\n",
       "1700726    iOS: Repeat XML Help Me <p>I have a code probl...\n",
       "2373500    CVS Checkout in Windows from Linux Samba CVSRO...\n",
       "5556064    Google Maps API V3 map container element dupli...\n",
       "4958259    Stop or terminate long running query in JDBC <...\n",
       "3046926    If/else statements in PHP and Ajax input valid...\n",
       "5135344    How to play a audio file through http response...\n",
       "4855266    JToolBar always float <p>When you add a JToolB...\n",
       "1036585    Ajax.BeginForm doesn't work properly <p>I have...\n",
       "1400645    Python C wrapper for reading variable argument...\n",
       "4965795    Python closure: Write to variable in parent sc...\n",
       "154310     Why does a left join return differently to a N...\n",
       "4167482    Multilevel access control in Active Directory....\n",
       "3514231    Can we use printwriter with Apache poi workshe...\n",
       "1305966    Error when install ioncube on wampserver <p>I ...\n",
       "2702968    How to link module located at another folder? ...\n",
       "915686     how insert page number to pdf while exporting ...\n",
       "3108143    Hide or uninstall apps for particular users in...\n",
       "                                 ...                        \n",
       "2148572    @Id @GeneratedValue but set own ID value <p>I ...\n",
       "5638607    Android: Chronometer Starting From Start of Ac...\n",
       "2693080    How to display object in a JTextArea? <p>I hav...\n",
       "2506856    Delete files in a directory using glob() <p>I ...\n",
       "1243236    How to save a PersistentStore <p>I've the foll...\n",
       "181544     javascript onclick button won't work on single...\n",
       "2482097    AJAX onSubmit validation in JSF 2.0 <p>I've st...\n",
       "1395381    Accessing JSON Key with Colon in Django Templa...\n",
       "3028514    DATE extraction from MYSQL <pre><code>$query =...\n",
       "189085     How do I keep mac terminal keybindings when co...\n",
       "2301179    What operations is this asymptotic relation cl...\n",
       "996837     Why not install Msvcr71.dll into system32? <p>...\n",
       "3312523    Safari Mobile - Crashing - Three JS Texture no...\n",
       "5139143    Codeigniter and Paypal: How it works <p>Two ra...\n",
       "2750792    How do I display active record in codeigniter ...\n",
       "2118127    File Size Stats <p>This is kind of a programmi...\n",
       "783577     Including another MySQL class in Wordpress <p>...\n",
       "3426307    Getting all the leaves from an expression <p>I...\n",
       "5087734    remove script tag from HTML content <p>I am us...\n",
       "5045701    WCF REST POST Function with WebHttpRequest cli...\n",
       "1167814    How to make an NSPanel immovable <p>Hey all, q...\n",
       "3606351    Control button visibility depending on active ...\n",
       "6027277    PHP installation - cannot run any function, ev...\n",
       "2346773    How to filter eclipse rcp key bindings as ESC ...\n",
       "2325058    Why is List<T>.Enumerator faster than my imple...\n",
       "1650670    Adding button column to DataGridView but it wo...\n",
       "3549934    NSFetchedResultsController with backgroundCont...\n",
       "5886109    stop mysql_fetch_array when reach username <p>...\n",
       "4139616    Play! 2.0.1 - css in assets <p>Underneath the ...\n",
       "1862034    MATLAB: Is it possible to overload operators o...\n",
       "Length: 500000, dtype: object"
      ]
     },
     "execution_count": 27,
     "metadata": {},
     "output_type": "execute_result"
    }
   ],
   "source": [
    "train_set.Title + \" \" + train_set.Body"
   ]
  },
  {
   "cell_type": "code",
   "execution_count": 15,
   "metadata": {},
   "outputs": [
    {
     "name": "stdout",
     "output_type": "stream",
     "text": [
      "before dropping duplicates: 500000\n",
      "after dropping duplicates: 500000\n"
     ]
    }
   ],
   "source": [
    "# Data preprocessing \n",
    "\n",
    "print(\"before dropping duplicates: {}\".format(len(train_set)))\n",
    "\n",
    "# drop duplicates\n",
    "train_set = train_set.drop_duplicates(subset=None, keep='first', inplace=False)\n",
    "\n",
    "print(\"after dropping duplicates: {}\".format(len(train_set)))"
   ]
  },
  {
   "cell_type": "code",
   "execution_count": 102,
   "metadata": {},
   "outputs": [],
   "source": [
    "# clean html tags\n",
    "\n",
    "def get_post(series):\n",
    "    try:\n",
    "        #get title\n",
    "#         test_title = dataframe.Title\n",
    "\n",
    "        # get body\n",
    "#         test_body = dataframe.Body\n",
    "\n",
    "        #get post \n",
    "#         dataframe['post'] = test_title + \" \" + test_body\n",
    "\n",
    "        #clean post\n",
    "        series = series.apply(lambda x: bs(markup=x, features='html.parser').getText())\n",
    "    #     post = soup.getText()\n",
    "\n",
    "        # remove symbols with regex\n",
    "        series = series.apply(lambda x: re.sub(r\"[^a-zA-Z0-9]\",\" \", x))\n",
    "        series = series.apply(lambda x: x.replace('\\n', ' '))\n",
    "        \n",
    "    #     post = re.sub(r\"[^a-zA-Z0-9]\", \" \", post)\n",
    "    except (TypeError, IndexError):\n",
    "        print('typeerror')\n",
    "\n",
    "    return series\n"
   ]
  },
  {
   "cell_type": "code",
   "execution_count": null,
   "metadata": {
    "scrolled": true
   },
   "outputs": [],
   "source": []
  },
  {
   "cell_type": "code",
   "execution_count": 107,
   "metadata": {},
   "outputs": [],
   "source": [
    "train_set['cleaned_body'] = get_post(train_set.Body)"
   ]
  },
  {
   "cell_type": "code",
   "execution_count": 105,
   "metadata": {},
   "outputs": [
    {
     "data": {
      "text/plain": [
       "'We re setting up a VIP using F5 load balancer in Windows 2008 Server  My IT dept has setup this VPI URL https   mydomain com   I need to test below scenarios but not sure how to do it  SSL termination should happen for all requests  Should reject drop the request if client SSL does not match  Forward the request to my application  if client SSL matches   Badically  the certificate is configured on Load balancer in such a way that LB will reject the request if client SSL does not match   it ll accept it only if client SSL matches   Can any one tell me how to test this using some shell script or other way  Thanks  '"
      ]
     },
     "execution_count": 105,
     "metadata": {},
     "output_type": "execute_result"
    }
   ],
   "source": []
  },
  {
   "cell_type": "code",
   "execution_count": 108,
   "metadata": {},
   "outputs": [
    {
     "data": {
      "text/plain": [
       "779393     Im trying to display rows which does not exist...\n",
       "4988336    We re setting up a VIP using F5 load balancer ...\n",
       "5207700    I downloaded the MGSplitViewController project...\n",
       "5989550    I ve been reading tutorials  but one thing I m...\n",
       "1847890    I am a little confused  the Wordpress 2 8 Widg...\n",
       "Name: cleaned_body, dtype: object"
      ]
     },
     "execution_count": 108,
     "metadata": {},
     "output_type": "execute_result"
    }
   ],
   "source": [
    "train_set.cleaned_body.head()"
   ]
  },
  {
   "cell_type": "code",
   "execution_count": 110,
   "metadata": {},
   "outputs": [
    {
     "data": {
      "text/plain": [
       "android                                                 4114\n",
       "php                                                     2415\n",
       "jquery                                                  2374\n",
       "javascript                                              2110\n",
       "c#                                                      2018\n",
       "java                                                    2017\n",
       "javascript jquery                                       2011\n",
       "python                                                  1386\n",
       "mysql                                                   1313\n",
       "c++                                                     1295\n",
       "php mysql                                               1287\n",
       "html css                                                1128\n",
       "iphone                                                  1043\n",
       "asp.net                                                  914\n",
       "ruby-on-rails                                            822\n",
       "c# asp.net                                               808\n",
       "java android                                             723\n",
       "css                                                      718\n",
       "c                                                        671\n",
       "iphone objective-c                                       512\n",
       "c# .net                                                  496\n",
       "r                                                        489\n",
       "git                                                      467\n",
       "javascript html                                          464\n",
       "sql                                                      448\n",
       "objective-c                                              418\n",
       "asp.net-mvc                                              417\n",
       "javascript jquery html                                   405\n",
       "ruby-on-rails ruby                                       381\n",
       "ruby                                                     377\n",
       "                                                        ... \n",
       "linux security http                                        1\n",
       "html css .htaccess seo gzip                                1\n",
       "mobile phonegap monetization                               1\n",
       "perl md5 ksh                                               1\n",
       "solaris aix                                                1\n",
       "sql performance design-patterns transactions               1\n",
       "ruby-on-rails versioning database-versioning               1\n",
       "custom-post-types categories wp-query taxonomy terms       1\n",
       "adobe http-authentication cmis adobe-drive                 1\n",
       "windows iis ruby-on-rails ruby redmine                     1\n",
       "html5 offline-caching offline-mode offline-browsing        1\n",
       "java linux graphics                                        1\n",
       "visual-studio visual-studio-2008 msbuild ilmerge           1\n",
       "windows command-line lock                                  1\n",
       "algorithm math random shuffle                              1\n",
       "vb.net string linq silverlight-4.0 expression              1\n",
       "php html date web                                          1\n",
       "optimization assembly x86 intel                            1\n",
       "windows-server-2003 ip iis6 subnet                         1\n",
       "arrays ruby-on-rails-3 ruby-1.9.2                          1\n",
       "android cocos2d cocos2d-x                                  1\n",
       "javascript git branching-and-merging                       1\n",
       "asp.net design datalist                                    1\n",
       "windows-7 windows-update sony-vaio brightness sony         1\n",
       "java url tomcat6 jdk1.5                                    1\n",
       "postgresql apt debian-lenny debian-etch dist-upgrade       1\n",
       "windows ubuntu remote-desktop                              1\n",
       "haskell ghc cabal cabal-install                            1\n",
       "c# winforms ui-automation                                  1\n",
       "c++ 3d                                                     1\n",
       "Name: Tags, Length: 311398, dtype: int64"
      ]
     },
     "execution_count": 110,
     "metadata": {},
     "output_type": "execute_result"
    }
   ],
   "source": [
    "train_set.Tags.value_counts()"
   ]
  },
  {
   "cell_type": "code",
   "execution_count": null,
   "metadata": {},
   "outputs": [],
   "source": []
  },
  {
   "cell_type": "raw",
   "metadata": {},
   "source": []
  }
 ],
 "metadata": {
  "kernelspec": {
   "display_name": "Python 3",
   "language": "python",
   "name": "python3"
  },
  "language_info": {
   "codemirror_mode": {
    "name": "ipython",
    "version": 3
   },
   "file_extension": ".py",
   "mimetype": "text/x-python",
   "name": "python",
   "nbconvert_exporter": "python",
   "pygments_lexer": "ipython3",
   "version": "3.6.5"
  }
 },
 "nbformat": 4,
 "nbformat_minor": 2
}
